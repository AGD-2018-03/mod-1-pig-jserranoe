{
 "cells": [
  {
   "cell_type": "markdown",
   "metadata": {},
   "source": [
    "Programación Basica\n",
    "===\n"
   ]
  },
  {
   "cell_type": "code",
   "execution_count": 5,
   "metadata": {},
   "outputs": [
    {
     "name": "stderr",
     "output_type": "stream",
     "text": [
      "UsageError: Line magic function `%pig` not found.\n"
     ]
    }
   ],
   "source": [
    "%pig -x local"
   ]
  },
  {
   "cell_type": "code",
   "execution_count": 3,
   "metadata": {},
   "outputs": [
    {
     "ename": "ModuleNotFoundError",
     "evalue": "No module named 'bigdata'",
     "output_type": "error",
     "traceback": [
      "\u001b[0;31m---------------------------------------------------------------------------\u001b[0m",
      "\u001b[0;31mModuleNotFoundError\u001b[0m                       Traceback (most recent call last)",
      "\u001b[0;32m<ipython-input-3-37b2ec09be88>\u001b[0m in \u001b[0;36m<module>\u001b[0;34m()\u001b[0m\n\u001b[0;32m----> 1\u001b[0;31m \u001b[0mget_ipython\u001b[0m\u001b[0;34m(\u001b[0m\u001b[0;34m)\u001b[0m\u001b[0;34m.\u001b[0m\u001b[0mrun_line_magic\u001b[0m\u001b[0;34m(\u001b[0m\u001b[0;34m'load_ext'\u001b[0m\u001b[0;34m,\u001b[0m \u001b[0;34m'bigdata'\u001b[0m\u001b[0;34m)\u001b[0m\u001b[0;34m\u001b[0m\u001b[0m\n\u001b[0m\u001b[1;32m      2\u001b[0m \u001b[0mget_ipython\u001b[0m\u001b[0;34m(\u001b[0m\u001b[0;34m)\u001b[0m\u001b[0;34m.\u001b[0m\u001b[0mrun_line_magic\u001b[0m\u001b[0;34m(\u001b[0m\u001b[0;34m'pig_init'\u001b[0m\u001b[0;34m,\u001b[0m \u001b[0;34m''\u001b[0m\u001b[0;34m)\u001b[0m\u001b[0;34m\u001b[0m\u001b[0m\n",
      "\u001b[0;32m~/anaconda3/lib/python3.6/site-packages/IPython/core/interactiveshell.py\u001b[0m in \u001b[0;36mrun_line_magic\u001b[0;34m(self, magic_name, line, _stack_depth)\u001b[0m\n\u001b[1;32m   2129\u001b[0m                 \u001b[0mkwargs\u001b[0m\u001b[0;34m[\u001b[0m\u001b[0;34m'local_ns'\u001b[0m\u001b[0;34m]\u001b[0m \u001b[0;34m=\u001b[0m \u001b[0msys\u001b[0m\u001b[0;34m.\u001b[0m\u001b[0m_getframe\u001b[0m\u001b[0;34m(\u001b[0m\u001b[0mstack_depth\u001b[0m\u001b[0;34m)\u001b[0m\u001b[0;34m.\u001b[0m\u001b[0mf_locals\u001b[0m\u001b[0;34m\u001b[0m\u001b[0m\n\u001b[1;32m   2130\u001b[0m             \u001b[0;32mwith\u001b[0m \u001b[0mself\u001b[0m\u001b[0;34m.\u001b[0m\u001b[0mbuiltin_trap\u001b[0m\u001b[0;34m:\u001b[0m\u001b[0;34m\u001b[0m\u001b[0m\n\u001b[0;32m-> 2131\u001b[0;31m                 \u001b[0mresult\u001b[0m \u001b[0;34m=\u001b[0m \u001b[0mfn\u001b[0m\u001b[0;34m(\u001b[0m\u001b[0;34m*\u001b[0m\u001b[0margs\u001b[0m\u001b[0;34m,\u001b[0m\u001b[0;34m**\u001b[0m\u001b[0mkwargs\u001b[0m\u001b[0;34m)\u001b[0m\u001b[0;34m\u001b[0m\u001b[0m\n\u001b[0m\u001b[1;32m   2132\u001b[0m             \u001b[0;32mreturn\u001b[0m \u001b[0mresult\u001b[0m\u001b[0;34m\u001b[0m\u001b[0m\n\u001b[1;32m   2133\u001b[0m \u001b[0;34m\u001b[0m\u001b[0m\n",
      "\u001b[0;32m<decorator-gen-65>\u001b[0m in \u001b[0;36mload_ext\u001b[0;34m(self, module_str)\u001b[0m\n",
      "\u001b[0;32m~/anaconda3/lib/python3.6/site-packages/IPython/core/magic.py\u001b[0m in \u001b[0;36m<lambda>\u001b[0;34m(f, *a, **k)\u001b[0m\n\u001b[1;32m    185\u001b[0m     \u001b[0;31m# but it's overkill for just that one bit of state.\u001b[0m\u001b[0;34m\u001b[0m\u001b[0;34m\u001b[0m\u001b[0m\n\u001b[1;32m    186\u001b[0m     \u001b[0;32mdef\u001b[0m \u001b[0mmagic_deco\u001b[0m\u001b[0;34m(\u001b[0m\u001b[0marg\u001b[0m\u001b[0;34m)\u001b[0m\u001b[0;34m:\u001b[0m\u001b[0;34m\u001b[0m\u001b[0m\n\u001b[0;32m--> 187\u001b[0;31m         \u001b[0mcall\u001b[0m \u001b[0;34m=\u001b[0m \u001b[0;32mlambda\u001b[0m \u001b[0mf\u001b[0m\u001b[0;34m,\u001b[0m \u001b[0;34m*\u001b[0m\u001b[0ma\u001b[0m\u001b[0;34m,\u001b[0m \u001b[0;34m**\u001b[0m\u001b[0mk\u001b[0m\u001b[0;34m:\u001b[0m \u001b[0mf\u001b[0m\u001b[0;34m(\u001b[0m\u001b[0;34m*\u001b[0m\u001b[0ma\u001b[0m\u001b[0;34m,\u001b[0m \u001b[0;34m**\u001b[0m\u001b[0mk\u001b[0m\u001b[0;34m)\u001b[0m\u001b[0;34m\u001b[0m\u001b[0m\n\u001b[0m\u001b[1;32m    188\u001b[0m \u001b[0;34m\u001b[0m\u001b[0m\n\u001b[1;32m    189\u001b[0m         \u001b[0;32mif\u001b[0m \u001b[0mcallable\u001b[0m\u001b[0;34m(\u001b[0m\u001b[0marg\u001b[0m\u001b[0;34m)\u001b[0m\u001b[0;34m:\u001b[0m\u001b[0;34m\u001b[0m\u001b[0m\n",
      "\u001b[0;32m~/anaconda3/lib/python3.6/site-packages/IPython/core/magics/extension.py\u001b[0m in \u001b[0;36mload_ext\u001b[0;34m(self, module_str)\u001b[0m\n\u001b[1;32m     31\u001b[0m         \u001b[0;32mif\u001b[0m \u001b[0;32mnot\u001b[0m \u001b[0mmodule_str\u001b[0m\u001b[0;34m:\u001b[0m\u001b[0;34m\u001b[0m\u001b[0m\n\u001b[1;32m     32\u001b[0m             \u001b[0;32mraise\u001b[0m \u001b[0mUsageError\u001b[0m\u001b[0;34m(\u001b[0m\u001b[0;34m'Missing module name.'\u001b[0m\u001b[0;34m)\u001b[0m\u001b[0;34m\u001b[0m\u001b[0m\n\u001b[0;32m---> 33\u001b[0;31m         \u001b[0mres\u001b[0m \u001b[0;34m=\u001b[0m \u001b[0mself\u001b[0m\u001b[0;34m.\u001b[0m\u001b[0mshell\u001b[0m\u001b[0;34m.\u001b[0m\u001b[0mextension_manager\u001b[0m\u001b[0;34m.\u001b[0m\u001b[0mload_extension\u001b[0m\u001b[0;34m(\u001b[0m\u001b[0mmodule_str\u001b[0m\u001b[0;34m)\u001b[0m\u001b[0;34m\u001b[0m\u001b[0m\n\u001b[0m\u001b[1;32m     34\u001b[0m \u001b[0;34m\u001b[0m\u001b[0m\n\u001b[1;32m     35\u001b[0m         \u001b[0;32mif\u001b[0m \u001b[0mres\u001b[0m \u001b[0;34m==\u001b[0m \u001b[0;34m'already loaded'\u001b[0m\u001b[0;34m:\u001b[0m\u001b[0;34m\u001b[0m\u001b[0m\n",
      "\u001b[0;32m~/anaconda3/lib/python3.6/site-packages/IPython/core/extensions.py\u001b[0m in \u001b[0;36mload_extension\u001b[0;34m(self, module_str)\u001b[0m\n\u001b[1;32m     83\u001b[0m             \u001b[0;32mif\u001b[0m \u001b[0mmodule_str\u001b[0m \u001b[0;32mnot\u001b[0m \u001b[0;32min\u001b[0m \u001b[0msys\u001b[0m\u001b[0;34m.\u001b[0m\u001b[0mmodules\u001b[0m\u001b[0;34m:\u001b[0m\u001b[0;34m\u001b[0m\u001b[0m\n\u001b[1;32m     84\u001b[0m                 \u001b[0;32mwith\u001b[0m \u001b[0mprepended_to_syspath\u001b[0m\u001b[0;34m(\u001b[0m\u001b[0mself\u001b[0m\u001b[0;34m.\u001b[0m\u001b[0mipython_extension_dir\u001b[0m\u001b[0;34m)\u001b[0m\u001b[0;34m:\u001b[0m\u001b[0;34m\u001b[0m\u001b[0m\n\u001b[0;32m---> 85\u001b[0;31m                     \u001b[0mmod\u001b[0m \u001b[0;34m=\u001b[0m \u001b[0mimport_module\u001b[0m\u001b[0;34m(\u001b[0m\u001b[0mmodule_str\u001b[0m\u001b[0;34m)\u001b[0m\u001b[0;34m\u001b[0m\u001b[0m\n\u001b[0m\u001b[1;32m     86\u001b[0m                     \u001b[0;32mif\u001b[0m \u001b[0mmod\u001b[0m\u001b[0;34m.\u001b[0m\u001b[0m__file__\u001b[0m\u001b[0;34m.\u001b[0m\u001b[0mstartswith\u001b[0m\u001b[0;34m(\u001b[0m\u001b[0mself\u001b[0m\u001b[0;34m.\u001b[0m\u001b[0mipython_extension_dir\u001b[0m\u001b[0;34m)\u001b[0m\u001b[0;34m:\u001b[0m\u001b[0;34m\u001b[0m\u001b[0m\n\u001b[1;32m     87\u001b[0m                         print((\"Loading extensions from {dir} is deprecated. \"\n",
      "\u001b[0;32m~/anaconda3/lib/python3.6/importlib/__init__.py\u001b[0m in \u001b[0;36mimport_module\u001b[0;34m(name, package)\u001b[0m\n\u001b[1;32m    124\u001b[0m                 \u001b[0;32mbreak\u001b[0m\u001b[0;34m\u001b[0m\u001b[0m\n\u001b[1;32m    125\u001b[0m             \u001b[0mlevel\u001b[0m \u001b[0;34m+=\u001b[0m \u001b[0;36m1\u001b[0m\u001b[0;34m\u001b[0m\u001b[0m\n\u001b[0;32m--> 126\u001b[0;31m     \u001b[0;32mreturn\u001b[0m \u001b[0m_bootstrap\u001b[0m\u001b[0;34m.\u001b[0m\u001b[0m_gcd_import\u001b[0m\u001b[0;34m(\u001b[0m\u001b[0mname\u001b[0m\u001b[0;34m[\u001b[0m\u001b[0mlevel\u001b[0m\u001b[0;34m:\u001b[0m\u001b[0;34m]\u001b[0m\u001b[0;34m,\u001b[0m \u001b[0mpackage\u001b[0m\u001b[0;34m,\u001b[0m \u001b[0mlevel\u001b[0m\u001b[0;34m)\u001b[0m\u001b[0;34m\u001b[0m\u001b[0m\n\u001b[0m\u001b[1;32m    127\u001b[0m \u001b[0;34m\u001b[0m\u001b[0m\n\u001b[1;32m    128\u001b[0m \u001b[0;34m\u001b[0m\u001b[0m\n",
      "\u001b[0;32m~/anaconda3/lib/python3.6/importlib/_bootstrap.py\u001b[0m in \u001b[0;36m_gcd_import\u001b[0;34m(name, package, level)\u001b[0m\n",
      "\u001b[0;32m~/anaconda3/lib/python3.6/importlib/_bootstrap.py\u001b[0m in \u001b[0;36m_find_and_load\u001b[0;34m(name, import_)\u001b[0m\n",
      "\u001b[0;32m~/anaconda3/lib/python3.6/importlib/_bootstrap.py\u001b[0m in \u001b[0;36m_find_and_load_unlocked\u001b[0;34m(name, import_)\u001b[0m\n",
      "\u001b[0;31mModuleNotFoundError\u001b[0m: No module named 'bigdata'"
     ]
    }
   ],
   "source": [
    "%load_ext bigdata\n",
    "%pig_init"
   ]
  },
  {
   "cell_type": "markdown",
   "metadata": {},
   "source": [
    "### LOAD\n",
    "\n",
    "El nombre de archivo soporta wilcards; por ejemplo:\n",
    "\n",
    "    x = LOAD 'files/*.txt';\n",
    "    \n",
    "leerá todos los archivos terminados en `.txt`. Por defecto, se espera que los campos en los archivos estén separados por comas."
   ]
  },
  {
   "cell_type": "code",
   "execution_count": 2,
   "metadata": {},
   "outputs": [
    {
     "name": "stdout",
     "output_type": "stream",
     "text": [
      "Overwriting persons.csv\n"
     ]
    }
   ],
   "source": [
    "%%writefile persons.csv\n",
    "1,Vivian,Hamilton,1971-07-08,green,1\n",
    "2,Karen,Holcomb,1974-05-23,green,4\n",
    "3,Cody,Garrett,1973-04-22,orange,1\n",
    "4,Roth,Fry,1975-01-29,black,1\n",
    "5,Zoe,Conway,1974-07-03,blue,2\n",
    "6,Gretchen,Kinney,1974-10-18,viole,1\n",
    "7,Driscoll,Klein,1970-10-05,blue,5\n",
    "8,Karyn,Diaz,1969-02-24,red,1\n",
    "9,Merritt,Guy,1974-10-17,indigo,4\n",
    "10,Kylan,Sexton,1975-02-28,black,4\n",
    "11,Jordan,Estes,1969-12-07,indigo,4\n",
    "12,Hope,Coffey,1973-12-24,green,5\n",
    "13,Vivian,Crane,1970-08-27,gray,5\n",
    "14,Clio,Noel,1972-12-12,red,5\n",
    "15,Hope,Silva,1970-07-01,blue,5\n",
    "16,Ayanna,Jarvis,1974-02-11,orange,5\n",
    "17,Chanda,Boyer,1973-04-01,green,4\n",
    "18,Chadwick,Knight,1973-04-29,yellow,1"
   ]
  },
  {
   "cell_type": "code",
   "execution_count": 3,
   "metadata": {
    "scrolled": true
   },
   "outputs": [
    {
     "name": "stdout",
     "output_type": "stream",
     "text": [
      "(1,Vivian,Hamilton,1971-07-08,green,1)\n",
      "(2,Karen,Holcomb,1974-05-23,green,4)\n",
      "(3,Cody,Garrett,1973-04-22,orange,1)\n",
      "(4,Roth,Fry,1975-01-29,black,1)\n",
      "(5,Zoe,Conway,1974-07-03,blue,2)\n",
      "(6,Gretchen,Kinney,1974-10-18,viole,1)\n",
      "(7,Driscoll,Klein,1970-10-05,blue,5)\n",
      "(8,Karyn,Diaz,1969-02-24,red,1)\n",
      "(9,Merritt,Guy,1974-10-17,indigo,4)\n",
      "(10,Kylan,Sexton,1975-02-28,black,4)\n",
      "(11,Jordan,Estes,1969-12-07,indigo,4)\n",
      "(12,Hope,Coffey,1973-12-24,green,5)\n",
      "(13,Vivian,Crane,1970-08-27,gray,5)\n",
      "(14,Clio,Noel,1972-12-12,red,5)\n",
      "(15,Hope,Silva,1970-07-01,blue,5)\n",
      "(16,Ayanna,Jarvis,1974-02-11,orange,5)\n",
      "(17,Chanda,Boyer,1973-04-01,green,4)\n",
      "(18,Chadwick,Knight,1973-04-29,yellow,1)\n"
     ]
    }
   ],
   "source": [
    "%%pig\n",
    "-- \n",
    "-- Carga el archivo desde el disco duro\n",
    "--\n",
    "u = LOAD 'persons.csv' USING PigStorage(',') \n",
    "    AS (id:INT, \n",
    "        firstname:CHARARRAY, \n",
    "        surname:CHARARRAY, \n",
    "        birtday:CHARARRAY, \n",
    "        color:CHARARRAY, \n",
    "        quantity:INT);\n",
    "DUMP u;"
   ]
  },
  {
   "cell_type": "markdown",
   "metadata": {},
   "source": [
    "### STORE"
   ]
  },
  {
   "cell_type": "code",
   "execution_count": 3,
   "metadata": {},
   "outputs": [],
   "source": [
    "!rm -rf output"
   ]
  },
  {
   "cell_type": "code",
   "execution_count": 5,
   "metadata": {},
   "outputs": [],
   "source": [
    "%%pig\n",
    "STORE u INTO 'output';"
   ]
  },
  {
   "cell_type": "code",
   "execution_count": 4,
   "metadata": {},
   "outputs": [
    {
     "name": "stdout",
     "output_type": "stream",
     "text": [
      "output/part-m-00000  output/_SUCCESS\r\n"
     ]
    }
   ],
   "source": [
    "!ls output/*"
   ]
  },
  {
   "cell_type": "code",
   "execution_count": 5,
   "metadata": {},
   "outputs": [
    {
     "name": "stdout",
     "output_type": "stream",
     "text": [
      "1\tVivian\tHamilton\t1971-07-08\tgreen\t1\r\n",
      "2\tKaren\tHolcomb\t1974-05-23\tgreen\t4\r\n",
      "3\tCody\tGarrett\t1973-04-22\torange\t1\r\n",
      "4\tRoth\tFry\t1975-01-29\tblack\t1\r\n",
      "5\tZoe\tConway\t1974-07-03\tblue\t2\r\n",
      "6\tGretchen\tKinney\t1974-10-18\tviole\t1\r\n",
      "7\tDriscoll\tKlein\t1970-10-05\tblue\t5\r\n",
      "8\tKaryn\tDiaz\t1969-02-24\tred\t1\r\n",
      "9\tMerritt\tGuy\t1974-10-17\tindigo\t4\r\n",
      "10\tKylan\tSexton\t1975-02-28\tblack\t4\r\n"
     ]
    }
   ],
   "source": [
    "!head output/part-m-00000"
   ]
  },
  {
   "cell_type": "code",
   "execution_count": 6,
   "metadata": {},
   "outputs": [],
   "source": [
    "!rm -rf output"
   ]
  },
  {
   "cell_type": "code",
   "execution_count": 9,
   "metadata": {},
   "outputs": [],
   "source": [
    "%%pig\n",
    "STORE u INTO 'output' USING PigStorage(';');"
   ]
  },
  {
   "cell_type": "code",
   "execution_count": 7,
   "metadata": {},
   "outputs": [
    {
     "name": "stdout",
     "output_type": "stream",
     "text": [
      "output/part-m-00000  output/_SUCCESS\r\n"
     ]
    }
   ],
   "source": [
    "!ls output/*"
   ]
  },
  {
   "cell_type": "code",
   "execution_count": 8,
   "metadata": {},
   "outputs": [
    {
     "name": "stdout",
     "output_type": "stream",
     "text": [
      "1;Vivian;Hamilton;1971-07-08;green;1\r\n",
      "2;Karen;Holcomb;1974-05-23;green;4\r\n",
      "3;Cody;Garrett;1973-04-22;orange;1\r\n",
      "4;Roth;Fry;1975-01-29;black;1\r\n",
      "5;Zoe;Conway;1974-07-03;blue;2\r\n",
      "6;Gretchen;Kinney;1974-10-18;viole;1\r\n",
      "7;Driscoll;Klein;1970-10-05;blue;5\r\n",
      "8;Karyn;Diaz;1969-02-24;red;1\r\n",
      "9;Merritt;Guy;1974-10-17;indigo;4\r\n",
      "10;Kylan;Sexton;1975-02-28;black;4\r\n"
     ]
    }
   ],
   "source": [
    "!head output/part-m-00000"
   ]
  },
  {
   "cell_type": "code",
   "execution_count": 9,
   "metadata": {},
   "outputs": [],
   "source": [
    "!rm -rf output"
   ]
  },
  {
   "cell_type": "markdown",
   "metadata": {},
   "source": [
    "### FOREACH"
   ]
  },
  {
   "cell_type": "code",
   "execution_count": 13,
   "metadata": {},
   "outputs": [
    {
     "name": "stdout",
     "output_type": "stream",
     "text": [
      "(Vivian,Hamilton,1971-07-08,green,1)\n",
      "(Karen,Holcomb,1974-05-23,green,4)\n",
      "(Cody,Garrett,1973-04-22,orange,1)\n",
      "(Roth,Fry,1975-01-29,black,1)\n",
      "(Zoe,Conway,1974-07-03,blue,2)\n",
      "(Gretchen,Kinney,1974-10-18,viole,1)\n",
      "(Driscoll,Klein,1970-10-05,blue,5)\n",
      "(Karyn,Diaz,1969-02-24,red,1)\n",
      "(Merritt,Guy,1974-10-17,indigo,4)\n",
      "(Kylan,Sexton,1975-02-28,black,4)\n",
      "(Jordan,Estes,1969-12-07,indigo,4)\n",
      "(Hope,Coffey,1973-12-24,green,5)\n",
      "(Vivian,Crane,1970-08-27,gray,5)\n",
      "(Clio,Noel,1972-12-12,red,5)\n",
      "(Hope,Silva,1970-07-01,blue,5)\n",
      "(Ayanna,Jarvis,1974-02-11,orange,5)\n",
      "(Chanda,Boyer,1973-04-01,green,4)\n",
      "(Chadwick,Knight,1973-04-29,yellow,1)\n"
     ]
    }
   ],
   "source": [
    "%%pig\n",
    "--\n",
    "-- Los campos del archivo puden ser indicados por nombre \n",
    "-- o por posición iniciando en 0\n",
    "--\n",
    "v = FOREACH u GENERATE firstname;\n",
    "DUMP v;"
   ]
  },
  {
   "cell_type": "code",
   "execution_count": 14,
   "metadata": {},
   "outputs": [
    {
     "name": "stdout",
     "output_type": "stream",
     "text": [
      "(20)\n",
      "(20)\n",
      "(10)\n",
      "(10)\n",
      "(10)\n",
      "(10)\n",
      "(10)\n",
      "(10)\n",
      "(10)\n",
      "(10)\n",
      "(10)\n",
      "(10)\n",
      "(10)\n",
      "(10)\n",
      "(10)\n",
      "(10)\n",
      "(10)\n",
      "(10)\n"
     ]
    }
   ],
   "source": [
    "%%pig\n",
    "--\n",
    "-- uso de condicionales \n",
    "--\n",
    "v = FOREACH u GENERATE ($0 > $5 ? 10 : 20) ;\n",
    "DUMP v;"
   ]
  },
  {
   "cell_type": "code",
   "execution_count": 15,
   "metadata": {},
   "outputs": [
    {
     "name": "stdout",
     "output_type": "stream",
     "text": [
      "(Vivian,1971-07-08)\n",
      "(Karen,1974-05-23)\n",
      "(Cody,1973-04-22)\n",
      "(Roth,1975-01-29)\n",
      "(Zoe,1974-07-03)\n",
      "(Gretchen,1974-10-18)\n",
      "(Driscoll,1970-10-05)\n",
      "(Karyn,1969-02-24)\n",
      "(Merritt,1974-10-17)\n",
      "(Kylan,1975-02-28)\n",
      "(Jordan,1969-12-07)\n",
      "(Hope,1973-12-24)\n",
      "(Vivian,1970-08-27)\n",
      "(Clio,1972-12-12)\n",
      "(Hope,1970-07-01)\n",
      "(Ayanna,1974-02-11)\n",
      "(Chanda,1973-04-01)\n",
      "(Chadwick,1973-04-29)\n"
     ]
    }
   ],
   "source": [
    "%%pig\n",
    "y = FOREACH u GENERATE $1, $3;\n",
    "DUMP y;"
   ]
  },
  {
   "cell_type": "code",
   "execution_count": 16,
   "metadata": {},
   "outputs": [
    {
     "name": "stdout",
     "output_type": "stream",
     "text": [
      "(VIVIAN)\n",
      "(KAREN)\n",
      "(CODY)\n",
      "(ROTH)\n",
      "(ZOE)\n",
      "(GRETCHEN)\n",
      "(DRISCOLL)\n",
      "(KARYN)\n",
      "(MERRITT)\n",
      "(KYLAN)\n",
      "(JORDAN)\n",
      "(HOPE)\n",
      "(VIVIAN)\n",
      "(CLIO)\n",
      "(HOPE)\n",
      "(AYANNA)\n",
      "(CHANDA)\n",
      "(CHADWICK)\n"
     ]
    }
   ],
   "source": [
    "%%pig\n",
    "y = FOREACH u GENERATE UPPER($1);\n",
    "DUMP y;"
   ]
  },
  {
   "cell_type": "code",
   "execution_count": 17,
   "metadata": {},
   "outputs": [
    {
     "name": "stdout",
     "output_type": "stream",
     "text": [
      "([Vivian#1971-07-08])\n",
      "([Karen#1974-05-23])\n",
      "([Cody#1973-04-22])\n",
      "([Roth#1975-01-29])\n",
      "([Zoe#1974-07-03])\n",
      "([Gretchen#1974-10-18])\n",
      "([Driscoll#1970-10-05])\n",
      "([Karyn#1969-02-24])\n",
      "([Merritt#1974-10-17])\n",
      "([Kylan#1975-02-28])\n",
      "([Jordan#1969-12-07])\n",
      "([Hope#1973-12-24])\n",
      "([Vivian#1970-08-27])\n",
      "([Clio#1972-12-12])\n",
      "([Hope#1970-07-01])\n",
      "([Ayanna#1974-02-11])\n",
      "([Chanda#1973-04-01])\n",
      "([Chadwick#1973-04-29])\n"
     ]
    }
   ],
   "source": [
    "%%pig\n",
    "y = FOREACH u GENERATE [$1, $5];\n",
    "DUMP y;"
   ]
  },
  {
   "cell_type": "markdown",
   "metadata": {},
   "source": [
    "### FILTER"
   ]
  },
  {
   "cell_type": "code",
   "execution_count": 18,
   "metadata": {},
   "outputs": [
    {
     "name": "stdout",
     "output_type": "stream",
     "text": [
      "(5,Zoe,Conway,1974-07-03,blue,2)\n",
      "(7,Driscoll,Klein,1970-10-05,blue,5)\n",
      "(15,Hope,Silva,1970-07-01,blue,5)\n"
     ]
    }
   ],
   "source": [
    "%%pig\n",
    "y = FILTER u BY $4 MATCHES 'blue';\n",
    "DUMP y;"
   ]
  },
  {
   "cell_type": "markdown",
   "metadata": {},
   "source": [
    "### GROUP"
   ]
  },
  {
   "cell_type": "code",
   "execution_count": 19,
   "metadata": {},
   "outputs": [
    {
     "name": "stdout",
     "output_type": "stream",
     "text": [
      "(red,{(8,Karyn,Diaz,1969-02-24,red,1),(14,Clio,Noel,1972-12-12,red,5)})\n",
      "(blue,{(15,Hope,Silva,1970-07-01,blue,5),(7,Driscoll,Klein,1970-10-05,blue,5),(5,Zoe,Conway,1974-07-03,blue,2)})\n",
      "(gray,{(13,Vivian,Crane,1970-08-27,gray,5)})\n",
      "(black,{(10,Kylan,Sexton,1975-02-28,black,4),(4,Roth,Fry,1975-01-29,black,1)})\n",
      "(green,{(12,Hope,Coffey,1973-12-24,green,5),(2,Karen,Holcomb,1974-05-23,green,4),(17,Chanda,Boyer,1973-04-01,green,4),(1,Vivian,Hamilton,1971-07-08,green,1)})\n",
      "(viole,{(6,Gretchen,Kinney,1974-10-18,viole,1)})\n",
      "(indigo,{(9,Merritt,Guy,1974-10-17,indigo,4),(11,Jordan,Estes,1969-12-07,indigo,4)})\n",
      "(orange,{(3,Cody,Garrett,1973-04-22,orange,1),(16,Ayanna,Jarvis,1974-02-11,orange,5)})\n",
      "(yellow,{(18,Chadwick,Knight,1973-04-29,yellow,1)})\n"
     ]
    }
   ],
   "source": [
    "%%pig\n",
    "y = GROUP u BY $4;\n",
    "DUMP y;"
   ]
  },
  {
   "cell_type": "code",
   "execution_count": 20,
   "metadata": {},
   "outputs": [
    {
     "name": "stdout",
     "output_type": "stream",
     "text": [
      "({(8,Karyn,Diaz,1969-02-24,red,1),(14,Clio,Noel,1972-12-12,red,5)},2)\n",
      "({(15,Hope,Silva,1970-07-01,blue,5),(7,Driscoll,Klein,1970-10-05,blue,5),(5,Zoe,Conway,1974-07-03,blue,2)},3)\n",
      "({(13,Vivian,Crane,1970-08-27,gray,5)},1)\n",
      "({(10,Kylan,Sexton,1975-02-28,black,4),(4,Roth,Fry,1975-01-29,black,1)},2)\n",
      "({(12,Hope,Coffey,1973-12-24,green,5),(2,Karen,Holcomb,1974-05-23,green,4),(17,Chanda,Boyer,1973-04-01,green,4),(1,Vivian,Hamilton,1971-07-08,green,1)},4)\n",
      "({(6,Gretchen,Kinney,1974-10-18,viole,1)},1)\n",
      "({(9,Merritt,Guy,1974-10-17,indigo,4),(11,Jordan,Estes,1969-12-07,indigo,4)},2)\n",
      "({(3,Cody,Garrett,1973-04-22,orange,1),(16,Ayanna,Jarvis,1974-02-11,orange,5)},2)\n",
      "({(18,Chadwick,Knight,1973-04-29,yellow,1)},1)\n"
     ]
    }
   ],
   "source": [
    "%%pig\n",
    "z = FOREACH y GENERATE u, COUNT(u);\n",
    "DUMP z;"
   ]
  },
  {
   "cell_type": "markdown",
   "metadata": {},
   "source": [
    "### DESCRIBE\n"
   ]
  },
  {
   "cell_type": "code",
   "execution_count": 21,
   "metadata": {},
   "outputs": [
    {
     "name": "stdout",
     "output_type": "stream",
     "text": [
      "u: {id: int,firstname: chararray,surname: chararray,birtday: chararray,color: chararray,quantity: int}\n"
     ]
    }
   ],
   "source": [
    "%%pig\n",
    "DESCRIBE u;"
   ]
  },
  {
   "cell_type": "markdown",
   "metadata": {},
   "source": [
    "### ORDER .. BY .."
   ]
  },
  {
   "cell_type": "code",
   "execution_count": 22,
   "metadata": {},
   "outputs": [
    {
     "name": "stdout",
     "output_type": "stream",
     "text": [
      "(4,Roth,Fry,1975-01-29,black,1)\n",
      "(10,Kylan,Sexton,1975-02-28,black,4)\n",
      "(5,Zoe,Conway,1974-07-03,blue,2)\n",
      "(7,Driscoll,Klein,1970-10-05,blue,5)\n",
      "(15,Hope,Silva,1970-07-01,blue,5)\n",
      "(13,Vivian,Crane,1970-08-27,gray,5)\n",
      "(2,Karen,Holcomb,1974-05-23,green,4)\n",
      "(12,Hope,Coffey,1973-12-24,green,5)\n",
      "(17,Chanda,Boyer,1973-04-01,green,4)\n",
      "(1,Vivian,Hamilton,1971-07-08,green,1)\n",
      "(9,Merritt,Guy,1974-10-17,indigo,4)\n",
      "(11,Jordan,Estes,1969-12-07,indigo,4)\n",
      "(3,Cody,Garrett,1973-04-22,orange,1)\n",
      "(16,Ayanna,Jarvis,1974-02-11,orange,5)\n",
      "(8,Karyn,Diaz,1969-02-24,red,1)\n",
      "(14,Clio,Noel,1972-12-12,red,5)\n",
      "(6,Gretchen,Kinney,1974-10-18,viole,1)\n",
      "(18,Chadwick,Knight,1973-04-29,yellow,1)\n"
     ]
    }
   ],
   "source": [
    "%%pig\n",
    "y = ORDER u BY $4;\n",
    "DUMP y;"
   ]
  },
  {
   "cell_type": "markdown",
   "metadata": {},
   "source": [
    "### DISCTINT"
   ]
  },
  {
   "cell_type": "code",
   "execution_count": 23,
   "metadata": {},
   "outputs": [
    {
     "name": "stdout",
     "output_type": "stream",
     "text": [
      "2018-10-20 13:45:40,793 ERROR grunt.Grunt: ERROR 1200: <line 20, column 0>  Syntax error, unexpected symbol at or near 'z'\n",
      "Details at logfile: /Volumes/Data/GitHub/Analitica-de-grandes-datos/AGD-03-Pig/pig_1540061128832.log\n",
      "({(8,Karyn,Diaz,1969-02-24,red,1),(14,Clio,Noel,1972-12-12,red,5)},2)\n",
      "({(15,Hope,Silva,1970-07-01,blue,5),(7,Driscoll,Klein,1970-10-05,blue,5),(5,Zoe,Conway,1974-07-03,blue,2)},3)\n",
      "({(13,Vivian,Crane,1970-08-27,gray,5)},1)\n",
      "({(10,Kylan,Sexton,1975-02-28,black,4),(4,Roth,Fry,1975-01-29,black,1)},2)\n",
      "({(12,Hope,Coffey,1973-12-24,green,5),(2,Karen,Holcomb,1974-05-23,green,4),(17,Chanda,Boyer,1973-04-01,green,4),(1,Vivian,Hamilton,1971-07-08,green,1)},4)\n",
      "({(6,Gretchen,Kinney,1974-10-18,viole,1)},1)\n",
      "({(9,Merritt,Guy,1974-10-17,indigo,4),(11,Jordan,Estes,1969-12-07,indigo,4)},2)\n",
      "({(3,Cody,Garrett,1973-04-22,orange,1),(16,Ayanna,Jarvis,1974-02-11,orange,5)},2)\n",
      "({(18,Chadwick,Knight,1973-04-29,yellow,1)},1)\n"
     ]
    }
   ],
   "source": [
    "%%pig\n",
    "-- \n",
    "-- opera únicamente sobre registros completos\n",
    "--\n",
    "y = FOREACH u GENERATE $4;\n",
    "z = DISCTINT y;\n",
    "DUMP z;"
   ]
  },
  {
   "cell_type": "markdown",
   "metadata": {},
   "source": [
    "### JOIN"
   ]
  },
  {
   "cell_type": "code",
   "execution_count": 24,
   "metadata": {},
   "outputs": [
    {
     "name": "stdout",
     "output_type": "stream",
     "text": [
      "Writing jointable.csv\n"
     ]
    }
   ],
   "source": [
    "%%writefile jointable.csv\n",
    "1,A\n",
    "2,B\n",
    "3,C\n",
    "24,X\n",
    "25,Y\n",
    "26,Z"
   ]
  },
  {
   "cell_type": "code",
   "execution_count": 25,
   "metadata": {},
   "outputs": [
    {
     "name": "stdout",
     "output_type": "stream",
     "text": [
      "(1,A)\n",
      "(2,B)\n",
      "(3,C)\n",
      "(24,X)\n",
      "(25,Y)\n",
      "(26,Z)\n"
     ]
    }
   ],
   "source": [
    "%%pig\n",
    "w = LOAD 'jointable.csv' USING PigStorage(',') \n",
    "    AS (id:INT, \n",
    "        letter:CHARARRAY);\n",
    "DUMP w;"
   ]
  },
  {
   "cell_type": "code",
   "execution_count": 26,
   "metadata": {},
   "outputs": [
    {
     "name": "stdout",
     "output_type": "stream",
     "text": [
      "(1,Vivian,Hamilton,1971-07-08,green,1,1,A)\n",
      "(2,Karen,Holcomb,1974-05-23,green,4,2,B)\n",
      "(3,Cody,Garrett,1973-04-22,orange,1,3,C)\n"
     ]
    }
   ],
   "source": [
    "%%pig\n",
    "w = JOIN u BY id, w BY id;\n",
    "DUMP w;"
   ]
  },
  {
   "cell_type": "code",
   "execution_count": 27,
   "metadata": {},
   "outputs": [],
   "source": [
    "!rm jointable.csv"
   ]
  },
  {
   "cell_type": "markdown",
   "metadata": {},
   "source": [
    "### LIMIT"
   ]
  },
  {
   "cell_type": "code",
   "execution_count": 28,
   "metadata": {},
   "outputs": [
    {
     "name": "stdout",
     "output_type": "stream",
     "text": [
      "(1,Vivian,Hamilton,1971-07-08,green,1)\n",
      "(2,Karen,Holcomb,1974-05-23,green,4)\n",
      "(3,Cody,Garrett,1973-04-22,orange,1)\n",
      "(4,Roth,Fry,1975-01-29,black,1)\n",
      "(5,Zoe,Conway,1974-07-03,blue,2)\n",
      "(6,Gretchen,Kinney,1974-10-18,viole,1)\n",
      "(7,Driscoll,Klein,1970-10-05,blue,5)\n",
      "(8,Karyn,Diaz,1969-02-24,red,1)\n",
      "(9,Merritt,Guy,1974-10-17,indigo,4)\n",
      "(10,Kylan,Sexton,1975-02-28,black,4)\n"
     ]
    }
   ],
   "source": [
    "%%pig\n",
    "z = LIMIT u 10;\n",
    "DUMP z;"
   ]
  },
  {
   "cell_type": "markdown",
   "metadata": {},
   "source": [
    "### SAMPLE"
   ]
  },
  {
   "cell_type": "code",
   "execution_count": 29,
   "metadata": {},
   "outputs": [
    {
     "name": "stdout",
     "output_type": "stream",
     "text": [
      "(1,Vivian,Hamilton,1971-07-08,green,1)\n",
      "(8,Karyn,Diaz,1969-02-24,red,1)\n",
      "(12,Hope,Coffey,1973-12-24,green,5)\n",
      "(16,Ayanna,Jarvis,1974-02-11,orange,5)\n"
     ]
    }
   ],
   "source": [
    "%%pig\n",
    "w = SAMPLE u 0.2;\n",
    "DUMP w;"
   ]
  },
  {
   "cell_type": "markdown",
   "metadata": {},
   "source": [
    "### CASE"
   ]
  },
  {
   "cell_type": "code",
   "execution_count": 30,
   "metadata": {},
   "outputs": [
    {
     "name": "stdout",
     "output_type": "stream",
     "text": [
      "(10)\n",
      "(20)\n",
      "(3)\n",
      "(3)\n",
      "(3)\n",
      "(3)\n",
      "(3)\n",
      "(3)\n",
      "(3)\n",
      "(3)\n",
      "(3)\n",
      "(3)\n",
      "(3)\n",
      "(3)\n",
      "(3)\n",
      "(3)\n",
      "(3)\n",
      "(3)\n"
     ]
    }
   ],
   "source": [
    "%%pig\n",
    "r = FOREACH u GENERATE (\n",
    "  CASE $0\n",
    "    WHEN 1 THEN 10\n",
    "    WHEN 2 THEN 20\n",
    "    ELSE 3\n",
    "  END\n",
    ");\n",
    "DUMP r;"
   ]
  },
  {
   "cell_type": "markdown",
   "metadata": {},
   "source": [
    "---"
   ]
  },
  {
   "cell_type": "code",
   "execution_count": 31,
   "metadata": {},
   "outputs": [],
   "source": [
    "!rm pig_* persons.csv"
   ]
  }
 ],
 "metadata": {
  "kernelspec": {
   "display_name": "Python 3",
   "language": "python",
   "name": "python3"
  },
  "language_info": {
   "codemirror_mode": {
    "name": "ipython",
    "version": 3
   },
   "file_extension": ".py",
   "mimetype": "text/x-python",
   "name": "python",
   "nbconvert_exporter": "python",
   "pygments_lexer": "ipython3",
   "version": "3.6.5"
  },
  "toc-autonumbering": false
 },
 "nbformat": 4,
 "nbformat_minor": 2
}
